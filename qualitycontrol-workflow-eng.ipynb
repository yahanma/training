{
 "cells": [
  {
   "cell_type": "markdown",
   "metadata": {},
   "source": [
    "# Model quality check and improvement workflow"
   ]
  },
  {
   "cell_type": "markdown",
   "metadata": {},
   "source": [
    "1.Download the initila model constructed from ModelSEED. The format of initial model is SBML file.\n",
    "\n",
    "\n",
    "2.generate an excel file for the model for easy checking. "
   ]
  },
  {
   "cell_type": "code",
   "execution_count": 1,
   "metadata": {},
   "outputs": [],
   "source": [
    "#2.1 excel format model generation. for checking and revising model, such as reactions and their lower or upper bound information.\n",
    "import sbmltoexcel\n",
    "sbmltoexcel.sbml_excel('Seed1111.5.65232.xml','Seed1111.5.65232.xlsx')# sbml to excel\n",
    "#sbmltoexcel.model_excel(model_1,'model_1.xlsx') # cobrapy model to excel. If we want to check the model we can change it to excel formate at any time"
   ]
  },
  {
   "cell_type": "code",
   "execution_count": null,
   "metadata": {},
   "outputs": [],
   "source": [
    "#2.2 change the excel format to sbml format.\n",
    "import exceltosbml\n",
    "exceltosbml.excel_sbml('Seed1111.5.65232.xlsx')"
   ]
  },
  {
   "cell_type": "markdown",
   "metadata": {},
   "source": [
    "3 initial check and model revision"
   ]
  },
  {
   "cell_type": "code",
   "execution_count": 2,
   "metadata": {},
   "outputs": [],
   "source": [
    "#3.1 import some modules and read the sbml model\n",
    "from __future__ import print_function\n",
    "import cobra\n",
    "import re\n",
    "import pandas as pd\n",
    "from cobra import Model, Reaction, Metabolite\n",
    "from cobra.flux_analysis import pfba\n",
    "model = cobra.io.read_sbml_model('Seed1111.5.65232.xml') # read sbml format model"
   ]
  },
  {
   "cell_type": "code",
   "execution_count": 7,
   "metadata": {
    "collapsed": true
   },
   "outputs": [
    {
     "name": "stdout",
     "output_type": "stream",
     "text": [
      "IN FLUXES             OUT FLUXES            OBJECTIVES\n",
      "--------------------  --------------------  -------------\n",
      "cpd00162_e0    1e+03  cpd00001_e0    1e+03  biomass0  149\n",
      "cpd00794_e0    1e+03  cpd00011_e0    1e+03\n",
      "cpd00106_e0  692      cpd00013_e0    1e+03\n",
      "cpd00588_e0  358      cpd00027_e0    1e+03\n",
      "cpd00307_e0  226      cpd00067_e0    1e+03\n",
      "cpd00007_e0  196      cpd00221_e0    1e+03\n",
      "cpd00075_e0  178      cpd00142_e0  811\n",
      "cpd00009_e0  121      cpd00036_e0  352\n",
      "cpd00129_e0  104      cpd00100_e0  215\n",
      "cpd00276_e0   68.7    cpd00092_e0  195\n",
      "cpd00039_e0   46.3    cpd00156_e0  171\n",
      "cpd00226_e0   45.1    cpd00797_e0  157\n",
      "cpd00051_e0   36.8    cpd00082_e0   13.5\n",
      "cpd00107_e0   36.7\n",
      "cpd00322_e0   36.1\n",
      "cpd00105_e0   30.9\n",
      "cpd11581_e0   29.9\n",
      "cpd00066_e0   23\n",
      "cpd11591_e0   19.5\n",
      "cpd15604_e0   19.3\n",
      "cpd15606_e0   18\n",
      "cpd15603_e0   12.7\n",
      "cpd01080_e0   12.7\n",
      "cpd00119_e0   11.8\n",
      "cpd00065_e0    7.04\n",
      "cpd03847_e0    3.73\n",
      "cpd10515_e0    1.85\n",
      "cpd00393_e0    1.39\n",
      "cpd11606_e0    0.924\n",
      "cpd00034_e0    0.462\n",
      "cpd00030_e0    0.462\n",
      "cpd00048_e0    0.462\n",
      "cpd00058_e0    0.462\n",
      "cpd00063_e0    0.462\n",
      "cpd00099_e0    0.462\n",
      "cpd00118_e0    0.462\n",
      "cpd00149_e0    0.462\n",
      "cpd00205_e0    0.462\n",
      "cpd00254_e0    0.462\n",
      "cpd00264_e0    0.462\n",
      "cpd00793_e0    0.462\n"
     ]
    },
    {
     "data": {
      "text/plain": [
       "{'EX_cpd00001_e0': 1000.0,\n",
       " 'EX_cpd00007_e0': 1000.0,\n",
       " 'EX_cpd00009_e0': 1000.0,\n",
       " 'EX_cpd00011_e0': 1000.0,\n",
       " 'EX_cpd00012_e0': 1000.0,\n",
       " 'EX_cpd00013_e0': 1000.0,\n",
       " 'EX_cpd00023_e0': 1000.0,\n",
       " 'EX_cpd00027_e0': 1000.0,\n",
       " 'EX_cpd00030_e0': 1000.0,\n",
       " 'EX_cpd00034_e0': 1000.0,\n",
       " 'EX_cpd00036_e0': 1000.0,\n",
       " 'EX_cpd00039_e0': 1000.0,\n",
       " 'EX_cpd00041_e0': 1000.0,\n",
       " 'EX_cpd00048_e0': 1000.0,\n",
       " 'EX_cpd00051_e0': 1000.0,\n",
       " 'EX_cpd00058_e0': 1000.0,\n",
       " 'EX_cpd00060_e0': 1000.0,\n",
       " 'EX_cpd00063_e0': 1000.0,\n",
       " 'EX_cpd00064_e0': 1000.0,\n",
       " 'EX_cpd00065_e0': 1000.0,\n",
       " 'EX_cpd00066_e0': 1000.0,\n",
       " 'EX_cpd00067_e0': 1000.0,\n",
       " 'EX_cpd00069_e0': 1000.0,\n",
       " 'EX_cpd00073_e0': 1000.0,\n",
       " 'EX_cpd00075_e0': 1000.0,\n",
       " 'EX_cpd00076_e0': 1000.0,\n",
       " 'EX_cpd00082_e0': 1000.0,\n",
       " 'EX_cpd00092_e0': 1000.0,\n",
       " 'EX_cpd00098_e0': 1000.0,\n",
       " 'EX_cpd00099_e0': 1000.0,\n",
       " 'EX_cpd00100_e0': 1000.0,\n",
       " 'EX_cpd00105_e0': 1000.0,\n",
       " 'EX_cpd00106_e0': 1000.0,\n",
       " 'EX_cpd00107_e0': 1000.0,\n",
       " 'EX_cpd00118_e0': 1000.0,\n",
       " 'EX_cpd00119_e0': 1000.0,\n",
       " 'EX_cpd00122_e0': 1000.0,\n",
       " 'EX_cpd00129_e0': 1000.0,\n",
       " 'EX_cpd00130_e0': 1000.0,\n",
       " 'EX_cpd00138_e0': 1000.0,\n",
       " 'EX_cpd00142_e0': 1000.0,\n",
       " 'EX_cpd00149_e0': 1000.0,\n",
       " 'EX_cpd00156_e0': 1000.0,\n",
       " 'EX_cpd00159_e0': 1000.0,\n",
       " 'EX_cpd00162_e0': 1000.0,\n",
       " 'EX_cpd00179_e0': 1000.0,\n",
       " 'EX_cpd00205_e0': 1000.0,\n",
       " 'EX_cpd00209_e0': 1000.0,\n",
       " 'EX_cpd00211_e0': 1000.0,\n",
       " 'EX_cpd00214_e0': 1000.0,\n",
       " 'EX_cpd00221_e0': 1000.0,\n",
       " 'EX_cpd00222_e0': 1000.0,\n",
       " 'EX_cpd00226_e0': 1000.0,\n",
       " 'EX_cpd00254_e0': 1000.0,\n",
       " 'EX_cpd00264_e0': 1000.0,\n",
       " 'EX_cpd00268_e0': 1000.0,\n",
       " 'EX_cpd00276_e0': 1000.0,\n",
       " 'EX_cpd00307_e0': 1000.0,\n",
       " 'EX_cpd00308_e0': 1000.0,\n",
       " 'EX_cpd00314_e0': 1000.0,\n",
       " 'EX_cpd00322_e0': 1000.0,\n",
       " 'EX_cpd00355_e0': 1000.0,\n",
       " 'EX_cpd00393_e0': 1000.0,\n",
       " 'EX_cpd00423_e0': 1000.0,\n",
       " 'EX_cpd00531_e0': 1000.0,\n",
       " 'EX_cpd00588_e0': 1000.0,\n",
       " 'EX_cpd00635_e0': 1000.0,\n",
       " 'EX_cpd00637_e0': 1000.0,\n",
       " 'EX_cpd00793_e0': 1000.0,\n",
       " 'EX_cpd00794_e0': 1000.0,\n",
       " 'EX_cpd00797_e0': 1000.0,\n",
       " 'EX_cpd00971_e0': 1000.0,\n",
       " 'EX_cpd01012_e0': 1000.0,\n",
       " 'EX_cpd01017_e0': 1000.0,\n",
       " 'EX_cpd01030_e0': 1000.0,\n",
       " 'EX_cpd01080_e0': 1000.0,\n",
       " 'EX_cpd01171_e0': 1000.0,\n",
       " 'EX_cpd01242_e0': 1000.0,\n",
       " 'EX_cpd01262_e0': 1000.0,\n",
       " 'EX_cpd01329_e0': 1000.0,\n",
       " 'EX_cpd01914_e0': 1000.0,\n",
       " 'EX_cpd03424_e0': 1000.0,\n",
       " 'EX_cpd03696_e0': 1000.0,\n",
       " 'EX_cpd03847_e0': 1000.0,\n",
       " 'EX_cpd04097_e0': 1000.0,\n",
       " 'EX_cpd10515_e0': 1000.0,\n",
       " 'EX_cpd10516_e0': 1000.0,\n",
       " 'EX_cpd11576_e0': 1000.0,\n",
       " 'EX_cpd11580_e0': 1000.0,\n",
       " 'EX_cpd11581_e0': 1000.0,\n",
       " 'EX_cpd11582_e0': 1000.0,\n",
       " 'EX_cpd11583_e0': 1000.0,\n",
       " 'EX_cpd11584_e0': 1000.0,\n",
       " 'EX_cpd11585_e0': 1000.0,\n",
       " 'EX_cpd11586_e0': 1000.0,\n",
       " 'EX_cpd11587_e0': 1000.0,\n",
       " 'EX_cpd11588_e0': 1000.0,\n",
       " 'EX_cpd11589_e0': 1000.0,\n",
       " 'EX_cpd11590_e0': 1000.0,\n",
       " 'EX_cpd11591_e0': 1000.0,\n",
       " 'EX_cpd11592_e0': 1000.0,\n",
       " 'EX_cpd11593_e0': 1000.0,\n",
       " 'EX_cpd11606_e0': 1000.0,\n",
       " 'EX_cpd15603_e0': 1000.0,\n",
       " 'EX_cpd15604_e0': 1000.0,\n",
       " 'EX_cpd15605_e0': 1000.0,\n",
       " 'EX_cpd15606_e0': 1000.0,\n",
       " 'EX_cpd16062_e0': 1000.0}"
      ]
     },
     "execution_count": 7,
     "metadata": {},
     "output_type": "execute_result"
    }
   ],
   "source": [
    "#3.2 Calculate optimal growth rate and check its input and output\n",
    "model.optimize()\n",
    "model.summary() #check input/outputs for the optimal solution\n",
    "#model.medium\n",
    "# many substrates can be consumed, leading to unreasonable high growth rates, need to modify the boundaries of exchange reactions"
   ]
  },
  {
   "cell_type": "code",
   "execution_count": 5,
   "metadata": {
    "collapsed": true
   },
   "outputs": [
    {
     "name": "stdout",
     "output_type": "stream",
     "text": [
      "IN FLUXES       OUT FLUXES    OBJECTIVES\n",
      "--------------  ------------  ------------\n",
      "cpd00001_e0  0                biomass0  0\n",
      "cpd00007_e0  0\n",
      "cpd00009_e0  0\n",
      "cpd00011_e0  0\n",
      "cpd00012_e0  0\n",
      "cpd00013_e0  0\n",
      "cpd00023_e0  0\n",
      "cpd00027_e0  0\n",
      "cpd00030_e0  0\n",
      "cpd00034_e0  0\n",
      "cpd00036_e0  0\n",
      "cpd00039_e0  0\n",
      "cpd00041_e0  0\n",
      "cpd00048_e0  0\n",
      "cpd00051_e0  0\n",
      "cpd00058_e0  0\n",
      "cpd00060_e0  0\n",
      "cpd00063_e0  0\n",
      "cpd00064_e0  0\n",
      "cpd00065_e0  0\n",
      "cpd00066_e0  0\n",
      "cpd00067_e0  0\n",
      "cpd00069_e0  0\n",
      "cpd00073_e0  0\n",
      "cpd00075_e0  0\n",
      "cpd00076_e0  0\n",
      "cpd00082_e0  0\n",
      "cpd00092_e0  0\n",
      "cpd00098_e0  0\n",
      "cpd00099_e0  0\n",
      "cpd00100_e0  0\n",
      "cpd00105_e0  0\n",
      "cpd00106_e0  0\n",
      "cpd00107_e0  0\n",
      "cpd00118_e0  0\n",
      "cpd00119_e0  0\n",
      "cpd00122_e0  0\n",
      "cpd00129_e0  0\n",
      "cpd00130_e0  0\n",
      "cpd00138_e0  0\n",
      "cpd00142_e0  0\n",
      "cpd00149_e0  0\n",
      "cpd00156_e0  0\n",
      "cpd00159_e0  0\n",
      "cpd00162_e0  0\n",
      "cpd00179_e0  0\n",
      "cpd00205_e0  0\n",
      "cpd00209_e0  0\n",
      "cpd00211_e0  0\n",
      "cpd00214_e0  0\n",
      "cpd00221_e0  0\n",
      "cpd00222_e0  0\n",
      "cpd00226_e0  0\n",
      "cpd00254_e0  0\n",
      "cpd00264_e0  0\n",
      "cpd00268_e0  0\n",
      "cpd00276_e0  0\n",
      "cpd00307_e0  0\n",
      "cpd00308_e0  0\n",
      "cpd00314_e0  0\n",
      "cpd00322_e0  0\n",
      "cpd00355_e0  0\n",
      "cpd00393_e0  0\n",
      "cpd00423_e0  0\n",
      "cpd00531_e0  0\n",
      "cpd00588_e0  0\n",
      "cpd00635_e0  0\n",
      "cpd00637_e0  0\n",
      "cpd00793_e0  0\n",
      "cpd00794_e0  0\n",
      "cpd00797_e0  0\n",
      "cpd00971_e0  0\n",
      "cpd01012_e0  0\n",
      "cpd01017_e0  0\n",
      "cpd01030_e0  0\n",
      "cpd01080_e0  0\n",
      "cpd01171_e0  0\n",
      "cpd01242_e0  0\n",
      "cpd01262_e0  0\n",
      "cpd01329_e0  0\n",
      "cpd01914_e0  0\n",
      "cpd03424_e0  0\n",
      "cpd03696_e0  0\n",
      "cpd03847_e0  0\n",
      "cpd04097_e0  0\n",
      "cpd10515_e0  0\n",
      "cpd10516_e0  0\n",
      "cpd11576_e0  0\n",
      "cpd11580_e0  0\n",
      "cpd11581_e0  0\n",
      "cpd11582_e0  0\n",
      "cpd11583_e0  0\n",
      "cpd11584_e0  0\n",
      "cpd11585_e0  0\n",
      "cpd11586_e0  0\n",
      "cpd11587_e0  0\n",
      "cpd11588_e0  0\n",
      "cpd11589_e0  0\n",
      "cpd11590_e0  0\n",
      "cpd11591_e0  0\n",
      "cpd11592_e0  0\n",
      "cpd11593_e0  0\n",
      "cpd11606_e0  0\n",
      "cpd15603_e0  0\n",
      "cpd15604_e0  0\n",
      "cpd15605_e0  0\n",
      "cpd15606_e0  0\n",
      "cpd16062_e0  0\n"
     ]
    }
   ],
   "source": [
    "#3.3 Change boundary of exchange reactions\n",
    "'''\n",
    "1. normally only allow one carbon source (default was glucose), uptake rate was set at 10mmol/g/h.\n",
    "2. oxygen exchange rate can be set to 0 for anaerobic or unlimited for aerobic\n",
    "3. CO2 exchange rate can be negative for CO2 fixation or 0 so that CO2 can only be released\n",
    "4. nitrogen (NH3) sulfur (H2S2O3,sulfate) and phosphate (Pi) sources can also be set, normally not limited\n",
    "5. exchange reactions for ions(Pb,Cd2,Cu2,Fe2,Fe3,Mg,K,Zn2,Na,Co2,Cl,Hg2,Mn2,Ca2) and H2O were unconstrained.\n",
    "3. boundaries of all other exchange reactions were set to 0-1000 so that the metabolites can only be produced but not consumed. \n",
    "'''\n",
    "c_exchange=['EX_cpd00027_e0'] #exchange reaction for carbon sources, use list to allow multiple sources\n",
    "for ex in c_exchange:\n",
    "    r=model.reactions.get_by_id(ex)\n",
    "    r.bounds=(-10, 1000) # maximal uptake rate 10mmol/g/h\n",
    "o_exchange=['EX_cpd00007_e0'] #exchange reaction for oxygen for anaerobic or aerobic conditions\n",
    "for ex in o_exchange:\n",
    "    r=model.reactions.get_by_id(ex)\n",
    "    r.bounds=(-1000, 1000) \n",
    "co2_exchange=['EX_cpd00011_e0'] #exchange reaction for CO2, \n",
    "for ex in co2_exchange:\n",
    "    r=model.reactions.get_by_id(ex)\n",
    "    r.bounds=(0, 1000) \n",
    "n_exchange=['EX_cpd00013_e0'] #exchange reaction for N sources\n",
    "for ex in n_exchange:\n",
    "    r=model.reactions.get_by_id(ex)\n",
    "    r.bounds=(-1000, 1000) \n",
    "s_exchange=['EX_cpd00048_e0','EX_cpd00268_e0'] #exchange reaction for sulafte and H2S2O3\n",
    "for ex in s_exchange:\n",
    "    r=model.reactions.get_by_id(ex)\n",
    "    r.bounds=(-1000, 1000) \n",
    "p_exchange=['EX_cpd00009_e0','EX_cpd00012_e0'] #exchange reaction for Pi and PPi\n",
    "for ex in p_exchange:\n",
    "    r=model.reactions.get_by_id(ex)\n",
    "    r.bounds=(-1000, 1000) \n",
    "ion_exchange=['EX_cpd04097_e0','EX_cpd00001_e0','EX_cpd00058_e0','EX_cpd10515_e0','EX_cpd10516_e0','EX_cpd00254_e0','EX_cpd00205_e0',\n",
    "            'EX_cpd00034_e0','EX_cpd00971_e0','EX_cpd00149_e0','EX_cpd00099_e0','EX_cpd00531_e0','EX_cpd00030_e0','EX_cpd00063_e0']\n",
    "preset_exchange=c_exchange+o_exchange+co2_exchange+n_exchange+s_exchange+p_exchange+ion_exchange\n",
    "for rea in model.boundary: \n",
    "    if rea.id not in preset_exchange:\n",
    "        rea.bounds=(0,1000)\n",
    "model.optimize()\n",
    "model.summary() \n",
    "cobra.io.write_sbml_model(model, \"model01.xml\")\n",
    "#growth likely to be zero, gaps in the network, but first check ATP production"
   ]
  },
  {
   "cell_type": "markdown",
   "metadata": {},
   "source": [
    "4 Checking and revise the ATP production pathway "
   ]
  },
  {
   "cell_type": "code",
   "execution_count": 6,
   "metadata": {},
   "outputs": [
    {
     "name": "stdout",
     "output_type": "stream",
     "text": [
      "-10\n",
      "IN FLUXES              OUT FLUXES             OBJECTIVES\n",
      "---------------------  ---------------------  ------------------\n",
      "cpd00007_e0  3.41e-13  cpd00001_e0  3.59e-13  rxn00062_c0  1e+03\n",
      "cpd00013_e0  1.17e-13  cpd00011_e0  3.53e-13\n",
      "cpd00067_e0  6.15e-14  cpd10516_e0  6.36e-15\n",
      "cpd00027_e0  5.27e-14  cpd00393_e0  1.86e-17\n",
      "                       cpd00048_e0  1.53e-17\n"
     ]
    }
   ],
   "source": [
    "#4.1 Check the wrong ATP generation cycle, using the ATP consumption reaction (maintenance) rxn00062 as objective reaction\n",
    "#find the maintenance reaction by searching in excel, should change the lower bound to maintenace coefficient such as 4.9 \n",
    "#rin=model.reactions.get_by_id(\"EX_cpd00027_e0\") # check the glucose input\n",
    "#rin.bounds=(0, 1000) # we can turn off the carbon input\n",
    "atpm=model.reactions.get_by_id(\"rxn00062_c0\")\n",
    "atpm.bounds=(4.9, 1000) #maintenace rate as lower bound\n",
    "#atpm.bounds=(-1000, 1000) #修改以使其可最小化净生成ATP，从而可计算净消耗ATP的无效循环\n",
    "model.objective=atpm # change objective function\n",
    "model.optimize()\n",
    "model.summary() \n",
    "#unreasonable high atp production rate, need to check the pathway to find what is wrong"
   ]
  },
  {
   "cell_type": "code",
   "execution_count": 7,
   "metadata": {},
   "outputs": [
    {
     "name": "stdout",
     "output_type": "stream",
     "text": [
      "rxn10043_c0 1000.0000000000002\n",
      "rxn10042_c0 1000.0000000000003\n",
      "rxn00058_c0 -500.0000000000001\n",
      "rxn00062_c0 1000.0\n"
     ]
    }
   ],
   "source": [
    "#4.2 output the pathway to a text file to find the mistakes\n",
    "import output\n",
    "outputfile_name ='atp.txt' # provide output file name\n",
    "fluxes = pfba(model).fluxes #use pfba to get a simple path\n",
    "output.pathway(fluxes,outputfile_name)"
   ]
  },
  {
   "cell_type": "markdown",
   "metadata": {},
   "source": [
    "By checking the result pathway file, we can find ATP without consumption of any substrate but from a cycle pathway. Reaction flux for rxn00058_c0 ((4.0)H_c0 + (4.0)Cytochrome_c2_c0 + O2_c0 -->(2.0)H2O_c0 + (4.0)Cytochrome_c3_c0) is -500, however this reaction\tshould be irreversible as O2_c0 should only be consumed but not produced in the respiratory chain. This should be corrected by change the lower bound of this reaction to zeor to make it irreversible. \n",
    "Actually most errors in ATP generation were caused by mistakes in reaction reversibility, we need to repeat the process untill all erros are corrected and a reasonable amount of ATP is produced from the carbon source.We can use of a set of rules to quickly determine which reaction in a wrong pathway should be set to irreversible.\n",
    "1.\tOxygen consumption reactions,\n",
    "2.\tMost of the carbon dioxide production reaction (CO2 is only used as substrate when a high energy substrate such as PEP (phophoenolpyruvate) and ATP is consumed at the same time),\n",
    "3.\tMost of the NH3 production reaction (NH3 is only used in two NH3 assimilation reactions and carbamoyl phosphate production),\n",
    "4.\tMost of the phosphate production reaction (the reaction is regarded as reversible only when phosphate reacts with another high energy substrate such as AcCoA)\n",
    "5.\tReactions in which S-Adenosyl-L-methionine is converted to S-Adenosyl-L-homocystine for providing a methyl group,\n",
    "6.\tReactions in which tetrahydrofolate (THF) is produced for transferring one carbon unit, \n",
    "7.\tMost of the ATP (or other high energy metabolites) consumption reactions, except for reactions with another high energy metabolite such as GTP, CAP, acetyl phosphate, Acyl-CoA,\n",
    "8.\tUDP-sugar consumption reactions for transferring sugar units,  \n",
    "9.\tCDP-diacylglycerol consumption reactions for phosphatidyl group transfer,\n",
    "10.\treactions like: 3'-Phosphoadenylylsulfate (PAPS) + A = adenosine 3',5'-bisphosphate (PAP) + B\n",
    "\n",
    "To avoid the time consuming correction process, we compiled a list of reactions from ModelSeed that should be corrected to irreversible to avoid wrong ATP generation pathways. The model can be updated from this list. \n",
    "请生成一个修正反应列表，文本文件含三列数据 反应ID，下界 上界，由此文件更新sbml文件的model02.\n"
   ]
  },
  {
   "cell_type": "code",
   "execution_count": 42,
   "metadata": {},
   "outputs": [],
   "source": [
    "#4.3 According to calculated results of 4.2 revise model,then we will get 2.0 version\n",
    "rea_need_forward = ['rxn05604_c0','rxn05297_c0','rxn05638_c0'] # boundary change to 0-1000\n",
    "model_2=model_1\n",
    "for i in rea_need_forward:\n",
    "    model_2.reactions.get_by_id(i).bounds=(0, 1000)\n",
    "    \n",
    "rea_need_reversible = ['rxn05209_c0'] # boundary change to -1000-1000\n",
    "for j in rea_need_reversible:\n",
    "    model_2.reactions.get_by_id(j).bounds=(-1000, 0)\n",
    "\n",
    "# After correcting, repeat 4.2 step"
   ]
  },
  {
   "cell_type": "markdown",
   "metadata": {},
   "source": [
    "查找净消耗ATP的无效循环（模块计算顺序为1,2,3,4,7）\n",
    "\n",
    "这样的循环会很多，若查找经过某特定反应的循环，可将该反应设为一较大值，如100（模块计算顺序为1,2,3,4,6,7）"
   ]
  },
  {
   "cell_type": "code",
   "execution_count": null,
   "metadata": {},
   "outputs": [],
   "source": [
    "#4 无效循环目标设置\n",
    "model.objective_direction='min'"
   ]
  },
  {
   "cell_type": "markdown",
   "metadata": {},
   "source": [
    "查看是否有NAD（P）H无限生成或消耗反应，以及将NADPH转化为NADH的无效循环"
   ]
  },
  {
   "cell_type": "code",
   "execution_count": 6,
   "metadata": {},
   "outputs": [],
   "source": [
    "#5 还原力平衡分析\n",
    "model.objective=model.reactions.get_by_id(\"NAD\")"
   ]
  },
  {
   "cell_type": "code",
   "execution_count": 105,
   "metadata": {},
   "outputs": [
    {
     "name": "stdout",
     "output_type": "stream",
     "text": [
      "biomass_precursors 创建成功\n"
     ]
    },
    {
     "data": {
      "text/plain": [
       "True"
      ]
     },
     "execution_count": 105,
     "metadata": {},
     "output_type": "execute_result"
    }
   ],
   "source": [
    "#3.4 Calculate the biomass precursors to check which matabolites can not be generated\n",
    "import makefolder\n",
    "\n",
    "outfolder = 'biomass_precursors'\n",
    "makefolder.mkdir (outfolder)\n"
   ]
  },
  {
   "cell_type": "code",
   "execution_count": null,
   "metadata": {},
   "outputs": [],
   "source": [
    "#要修改的输入输出代谢物列表,计算同时产生多个结果文件\n",
    "substrates=['succ_e']\n",
    "products=['trp__L_c','arg__L_c']#带e下标代谢物不一定存在"
   ]
  },
  {
   "cell_type": "code",
   "execution_count": 42,
   "metadata": {},
   "outputs": [
    {
     "ename": "NameError",
     "evalue": "name 'substrates' is not defined",
     "output_type": "error",
     "traceback": [
      "\u001b[0;31m---------------------------------------------------------------------------\u001b[0m",
      "\u001b[0;31mNameError\u001b[0m                                 Traceback (most recent call last)",
      "\u001b[0;32m<ipython-input-42-fbb6172e2ddb>\u001b[0m in \u001b[0;36m<module>\u001b[0;34m\u001b[0m\n\u001b[0;32m----> 1\u001b[0;31m \u001b[0;32mfor\u001b[0m \u001b[0ms\u001b[0m \u001b[0;32min\u001b[0m \u001b[0msubstrates\u001b[0m\u001b[0;34m:\u001b[0m\u001b[0;34m\u001b[0m\u001b[0m\n\u001b[0m\u001b[1;32m      2\u001b[0m     \u001b[0;32mfor\u001b[0m \u001b[0mp\u001b[0m \u001b[0;32min\u001b[0m \u001b[0mproducts\u001b[0m\u001b[0;34m:\u001b[0m\u001b[0;34m\u001b[0m\u001b[0m\n\u001b[1;32m      3\u001b[0m         \u001b[0mnewmodel\u001b[0m\u001b[0;34m=\u001b[0m\u001b[0mmodel\u001b[0m\u001b[0;34m.\u001b[0m\u001b[0mcopy\u001b[0m\u001b[0;34m(\u001b[0m\u001b[0;34m)\u001b[0m\u001b[0;34m\u001b[0m\u001b[0m\n\u001b[1;32m      4\u001b[0m         \u001b[0mnewsub\u001b[0m\u001b[0;34m=\u001b[0m\u001b[0mnewmodel\u001b[0m\u001b[0;34m.\u001b[0m\u001b[0mmetabolites\u001b[0m\u001b[0;34m.\u001b[0m\u001b[0mget_by_id\u001b[0m\u001b[0;34m(\u001b[0m\u001b[0ms\u001b[0m\u001b[0;34m)\u001b[0m\u001b[0;34m\u001b[0m\u001b[0m\n\u001b[1;32m      5\u001b[0m         \u001b[0mnewmodel\u001b[0m\u001b[0;34m.\u001b[0m\u001b[0madd_boundary\u001b[0m\u001b[0;34m(\u001b[0m\u001b[0mnewsub\u001b[0m\u001b[0;34m,\u001b[0m \u001b[0mtype\u001b[0m\u001b[0;34m=\u001b[0m\u001b[0;34m'sink'\u001b[0m\u001b[0;34m,\u001b[0m\u001b[0mub\u001b[0m\u001b[0;34m=\u001b[0m\u001b[0;36m10.0\u001b[0m\u001b[0;34m)\u001b[0m\u001b[0;34m\u001b[0m\u001b[0m\n",
      "\u001b[0;31mNameError\u001b[0m: name 'substrates' is not defined"
     ]
    }
   ],
   "source": [
    "for s in substrates:\n",
    "    for p in products:\n",
    "        newmodel=model.copy()\n",
    "        newsub=newmodel.metabolites.get_by_id(s)\n",
    "        newmodel.add_boundary(newsub, type='sink',ub=10.0)\n",
    "        newpro=newmodel.metabolites.get_by_id(p)\n",
    "        newmodel.objective =newmodel.add_boundary(newpro, type='demand') \n",
    "        outputfile=s+'_'+p+'.txt'\n",
    "        flux = open(outputfile, 'w')\n",
    "        fluxes = pfba(newmodel).fluxes\n",
    "        for r,v in fluxes.iteritems():\n",
    "            if abs(v)>1e-6:\n",
    "                flux.write(r+'\\t'+newmodel.reactions.get_by_id(r).build_reaction_string()+'\\t'+str(v)+str(abs(v))+'\\n')\n",
    "        flux.close()\n",
    "        #newmodel.summary() #模型输入输出通量，检查是否有不合理输入输出\n",
    "        #newmodel.metabolites.nh4_c.summary() #检查某一代谢物相关通量，如氨主要通过哪些反应进入"
   ]
  },
  {
   "cell_type": "code",
   "execution_count": null,
   "metadata": {},
   "outputs": [],
   "source": []
  }
 ],
 "metadata": {
  "celltoolbar": "Raw Cell Format",
  "kernelspec": {
   "display_name": "enzyme_python",
   "language": "python",
   "name": "enzyme_python"
  },
  "language_info": {
   "codemirror_mode": {
    "name": "ipython",
    "version": 3
   },
   "file_extension": ".py",
   "mimetype": "text/x-python",
   "name": "python",
   "nbconvert_exporter": "python",
   "pygments_lexer": "ipython3",
   "version": "3.5.5"
  }
 },
 "nbformat": 4,
 "nbformat_minor": 1
}
